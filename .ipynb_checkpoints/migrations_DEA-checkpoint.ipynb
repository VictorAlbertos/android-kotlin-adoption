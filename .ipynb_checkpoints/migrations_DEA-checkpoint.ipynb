{
 "cells": [
  {
   "cell_type": "code",
   "execution_count": 99,
   "metadata": {
    "collapsed": true
   },
   "outputs": [],
   "source": [
    "import pandas as pd\n",
    "import seaborn as sns\n",
    "from matplotlib.pyplot import figure"
   ]
  },
  {
   "cell_type": "code",
   "execution_count": 89,
   "metadata": {},
   "outputs": [],
   "source": [
    "df = pd.read_csv('migrations.csv')\n",
    "df.created_at = pd.to_datetime(df.created_at)  "
   ]
  },
  {
   "cell_type": "code",
   "execution_count": 90,
   "metadata": {},
   "outputs": [
    {
     "data": {
      "text/plain": [
       "(911, 10)"
      ]
     },
     "execution_count": 90,
     "metadata": {},
     "output_type": "execute_result"
    }
   ],
   "source": [
    "df.shape"
   ]
  },
  {
   "cell_type": "code",
   "execution_count": 91,
   "metadata": {},
   "outputs": [
    {
     "data": {
      "text/html": [
       "<div>\n",
       "<style scoped>\n",
       "    .dataframe tbody tr th:only-of-type {\n",
       "        vertical-align: middle;\n",
       "    }\n",
       "\n",
       "    .dataframe tbody tr th {\n",
       "        vertical-align: top;\n",
       "    }\n",
       "\n",
       "    .dataframe thead th {\n",
       "        text-align: right;\n",
       "    }\n",
       "</style>\n",
       "<table border=\"1\" class=\"dataframe\">\n",
       "  <thead>\n",
       "    <tr style=\"text-align: right;\">\n",
       "      <th></th>\n",
       "      <th>id</th>\n",
       "      <th>name</th>\n",
       "      <th>migrated</th>\n",
       "      <th>disk_usage</th>\n",
       "      <th>created_at</th>\n",
       "      <th>fork_count</th>\n",
       "      <th>watchers_count</th>\n",
       "      <th>issues_count</th>\n",
       "      <th>pull_requests_count</th>\n",
       "      <th>starts_count</th>\n",
       "    </tr>\n",
       "  </thead>\n",
       "  <tbody>\n",
       "    <tr>\n",
       "      <th>0</th>\n",
       "      <td>MDEwOlJlcG9zaXRvcnk3MTkwOTg2</td>\n",
       "      <td>shadowsocks-android</td>\n",
       "      <td>True</td>\n",
       "      <td>52636</td>\n",
       "      <td>2012-12-16 13:40:29</td>\n",
       "      <td>8293</td>\n",
       "      <td>1494</td>\n",
       "      <td>1804</td>\n",
       "      <td>265</td>\n",
       "      <td>20458</td>\n",
       "    </tr>\n",
       "    <tr>\n",
       "      <th>1</th>\n",
       "      <td>MDEwOlJlcG9zaXRvcnkzMTkyOTM0Ng==</td>\n",
       "      <td>android-UniversalMusicPlayer</td>\n",
       "      <td>True</td>\n",
       "      <td>8200</td>\n",
       "      <td>2015-03-10 00:04:35</td>\n",
       "      <td>3255</td>\n",
       "      <td>628</td>\n",
       "      <td>205</td>\n",
       "      <td>52</td>\n",
       "      <td>10584</td>\n",
       "    </tr>\n",
       "  </tbody>\n",
       "</table>\n",
       "</div>"
      ],
      "text/plain": [
       "                                 id                          name  migrated  \\\n",
       "0      MDEwOlJlcG9zaXRvcnk3MTkwOTg2           shadowsocks-android      True   \n",
       "1  MDEwOlJlcG9zaXRvcnkzMTkyOTM0Ng==  android-UniversalMusicPlayer      True   \n",
       "\n",
       "   disk_usage          created_at  fork_count  watchers_count  issues_count  \\\n",
       "0       52636 2012-12-16 13:40:29        8293            1494          1804   \n",
       "1        8200 2015-03-10 00:04:35        3255             628           205   \n",
       "\n",
       "   pull_requests_count  starts_count  \n",
       "0                  265         20458  \n",
       "1                   52         10584  "
      ]
     },
     "execution_count": 91,
     "metadata": {},
     "output_type": "execute_result"
    }
   ],
   "source": [
    "df.head(2)"
   ]
  },
  {
   "cell_type": "code",
   "execution_count": 92,
   "metadata": {},
   "outputs": [],
   "source": [
    "df_kotlin_migrated = df[df.migrated == True]\n",
    "df_java_not_migrated = df[df.migrated == False]"
   ]
  },
  {
   "cell_type": "markdown",
   "metadata": {},
   "source": [
    "### Counts and pcts"
   ]
  },
  {
   "cell_type": "code",
   "execution_count": 93,
   "metadata": {},
   "outputs": [
    {
     "name": "stdout",
     "output_type": "stream",
     "text": [
      "Active android repositories created on Github from 2009-01-05 to 2016-02-14\n",
      "migrated to kotlin -> count: 78, pct: 8.56% \n",
      "java non migrated -> count: 833, pct: 91.44% \n"
     ]
    }
   ],
   "source": [
    "kotlin_migrated_count = df_kotlin_migrated.shape[0]\n",
    "java_not_migrated_count = df_java_not_migrated.shape[0]\n",
    "\n",
    "start_date = df.created_at.min().strftime('%Y-%m-%d')\n",
    "end_date = df.created_at.max().strftime('%Y-%m-%d')\n",
    "\n",
    "print(f'Active android repositories created on Github from {start_date} to {end_date}')\n",
    "\n",
    "kotlin_migrated_pct = round(kotlin_migrated_count / (kotlin_migrated_count + java_not_migrated_count) * 100, 2)\n",
    "print(f'migrated to kotlin -> count: {kotlin_migrated_count}, pct: {kotlin_migrated_pct}% ')\n",
    "\n",
    "java_not_migrated_pct = round(java_not_migrated_count / (kotlin_migrated_count + java_not_migrated_count) * 100, 2)\n",
    "print(f'java non migrated -> count: {java_not_migrated_count}, pct: {java_not_migrated_pct}% ')"
   ]
  },
  {
   "cell_type": "markdown",
   "metadata": {},
   "source": [
    "### Comparate mean stats values bewteen Kotlin and Java repositories "
   ]
  },
  {
   "cell_type": "code",
   "execution_count": 94,
   "metadata": {},
   "outputs": [
    {
     "data": {
      "text/html": [
       "<div>\n",
       "<style scoped>\n",
       "    .dataframe tbody tr th:only-of-type {\n",
       "        vertical-align: middle;\n",
       "    }\n",
       "\n",
       "    .dataframe tbody tr th {\n",
       "        vertical-align: top;\n",
       "    }\n",
       "\n",
       "    .dataframe thead th {\n",
       "        text-align: right;\n",
       "    }\n",
       "</style>\n",
       "<table border=\"1\" class=\"dataframe\">\n",
       "  <thead>\n",
       "    <tr style=\"text-align: right;\">\n",
       "      <th></th>\n",
       "      <th>disk_usage</th>\n",
       "      <th>fork_count</th>\n",
       "      <th>watchers_count</th>\n",
       "      <th>issues_count</th>\n",
       "      <th>pull_requests_count</th>\n",
       "      <th>starts_count</th>\n",
       "    </tr>\n",
       "  </thead>\n",
       "  <tbody>\n",
       "    <tr>\n",
       "      <th>kotlin_means</th>\n",
       "      <td>26855.756410</td>\n",
       "      <td>324.333333</td>\n",
       "      <td>72.397436</td>\n",
       "      <td>183.448718</td>\n",
       "      <td>96.115385</td>\n",
       "      <td>1192.320513</td>\n",
       "    </tr>\n",
       "    <tr>\n",
       "      <th>java_means</th>\n",
       "      <td>78221.795918</td>\n",
       "      <td>256.052821</td>\n",
       "      <td>67.346939</td>\n",
       "      <td>212.965186</td>\n",
       "      <td>117.815126</td>\n",
       "      <td>943.468187</td>\n",
       "    </tr>\n",
       "  </tbody>\n",
       "</table>\n",
       "</div>"
      ],
      "text/plain": [
       "                disk_usage  fork_count  watchers_count  issues_count  \\\n",
       "kotlin_means  26855.756410  324.333333       72.397436    183.448718   \n",
       "java_means    78221.795918  256.052821       67.346939    212.965186   \n",
       "\n",
       "              pull_requests_count  starts_count  \n",
       "kotlin_means            96.115385   1192.320513  \n",
       "java_means             117.815126    943.468187  "
      ]
     },
     "execution_count": 94,
     "metadata": {},
     "output_type": "execute_result"
    }
   ],
   "source": [
    "kt_means = df_kotlin_migrated.describe()[1:2].rename(index={'mean': 'kotlin_means'})\n",
    "java_means = df_java_not_migrated.describe()[1:2].rename(index={'mean': 'java_means'})\n",
    "pd.concat([kt_means, java_means])"
   ]
  },
  {
   "cell_type": "markdown",
   "metadata": {},
   "source": [
    "Having always in mind that the distribution of migrated vs not migrated repositories is not symmetric (kotlin: 78 vs. java: 833), we can try to formulate some thoughts about their respective compositions.\n",
    "\n",
    "Kotlin migrated repositories seems to be slightly more popular, showing higher mean for the number of forks (kotlin: 324 vs. java: 256), wacthers (kotlin: 72 vs. java: 67) and starts (kotlin: 1192 vs. java: 943). It goes along with the previous trends where we saw how the percentage of repositories created with Kotlin was increasing almost constantly in a monthly bases.\n",
    "\n",
    "On the other hand, java not migrated repositories tends to be \"bigger\", having a greater size on disk (kotlin: 26MB vs. java: 78MB) as such as a more number of pull requests (kotlin: 96 vs. java: 117). This makes sense because of the amount of time invested is higher to migrate bigger projects (probably meaning larger code bases)."
   ]
  },
  {
   "cell_type": "markdown",
   "metadata": {},
   "source": [
    "### Correlation heatmap"
   ]
  },
  {
   "cell_type": "code",
   "execution_count": 103,
   "metadata": {},
   "outputs": [
    {
     "data": {
      "image/png": "[encoded data removed]",
      "text/plain": [
       "<matplotlib.figure.Figure at 0x1a1af8add8>"
      ]
     },
     "metadata": {},
     "output_type": "display_data"
    }
   ],
   "source": [
    "figure(num=None, figsize=(10, 5))\n",
    "corr = df.corr()\n",
    "sns.heatmap(corr, xticklabels=corr.columns, yticklabels=corr.columns, annot=True);"
   ]
  },
  {
   "cell_type": "markdown",
   "metadata": {},
   "source": [
    "The correlation heatmap shows very low coefficients but the direction of their relationships points out to the same conclusion drawn when inspecting the means: the projects migrated to Kotlin are more popular and less big than those which did not migrate."
   ]
  },
  {
   "cell_type": "code",
   "execution_count": null,
   "metadata": {},
   "outputs": [],
   "source": []
  }
 ],
 "metadata": {
  "kernelspec": {
   "display_name": "Python 3",
   "language": "python",
   "name": "python3"
  },
  "language_info": {
   "codemirror_mode": {
    "name": "ipython",
    "version": 3
   },
   "file_extension": ".py",
   "mimetype": "text/x-python",
   "name": "python",
   "nbconvert_exporter": "python",
   "pygments_lexer": "ipython3",
   "version": "3.6.4"
  }
 },
 "nbformat": 4,
 "nbformat_minor": 2
}
